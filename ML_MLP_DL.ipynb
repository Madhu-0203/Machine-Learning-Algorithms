{
  "nbformat": 4,
  "nbformat_minor": 0,
  "metadata": {
    "colab": {
      "provenance": []
    },
    "kernelspec": {
      "name": "python3",
      "display_name": "Python 3"
    },
    "language_info": {
      "name": "python"
    }
  },
  "cells": [
    {
      "cell_type": "markdown",
      "source": [
        "*MACHINE LEARNING*\n",
        "\n",
        "Title: Multi-Layer Perceptron - using Deep Learning Model \n",
        "\n",
        "\n",
        "Name: Madhumithaa RP\n",
        "\n",
        "Reg No: 20BCE1648 "
      ],
      "metadata": {
        "id": "fl3zvno-ZCZy"
      }
    },
    {
      "cell_type": "code",
      "execution_count": 2,
      "metadata": {
        "id": "F-Z-T7xyiXoi"
      },
      "outputs": [],
      "source": [
        "#Import required packages\n",
        "from keras.models import Sequential\n",
        "from keras.layers import Dense\n",
        "\n",
        "import pandas as pd \n",
        "import numpy as np"
      ]
    },
    {
      "cell_type": "markdown",
      "source": [
        "PHASE 1 - PREPARE THE DATASET "
      ],
      "metadata": {
        "id": "hyj-CtWZHbcs"
      }
    },
    {
      "cell_type": "code",
      "source": [
        "# Luxury Listing Dataset \n",
        "# Attr: Rooms, Floors, Budget\n",
        "np.random.seed(2018)\n",
        "train_data, test_data = np.random.random((1000, 3)), np.random.random((500, 3))\n",
        "labels = np.random.randint(2, size=(1000, 1))"
      ],
      "metadata": {
        "id": "GsgPhbGMl2LN"
      },
      "execution_count": 4,
      "outputs": []
    },
    {
      "cell_type": "markdown",
      "source": [
        "PHASE 2 - DEFINING THE MODEL \n",
        "\n",
        "no of neurons in each layer, the activation functions, and analysis metrics. \n",
        "\n"
      ],
      "metadata": {
        "id": "GI-fJUylYLhT"
      }
    },
    {
      "cell_type": "code",
      "source": [
        "#Defining the model structure with the required layers, # of neurons, activation function and optimizers\n",
        "model = Sequential()\n",
        "model.add(Dense(5, input_dim=3, activation='relu')) #It means 8 input parameters, with 12 neurons in the FIRST hidden layer.\n",
        "model.add(Dense(4, activation='relu'))  #Applies the rectified linear unit activation function. With\n",
        "model.add(Dense(1, activation='sigmoid')) # activation function is sigmoid. \n",
        "model.compile(loss='binary_crossentropy', optimizer='adam', metrics=['accuracy']) #l"
      ],
      "metadata": {
        "id": "5nC4fM-iYG4X"
      },
      "execution_count": 5,
      "outputs": []
    },
    {
      "cell_type": "markdown",
      "source": [
        "model.summary()"
      ],
      "metadata": {
        "id": "eXTNgGOHYiFS"
      }
    },
    {
      "cell_type": "code",
      "source": [
        "model.summary()"
      ],
      "metadata": {
        "colab": {
          "base_uri": "https://localhost:8080/"
        },
        "id": "tLYKioHxYkjy",
        "outputId": "e17df8fd-74e6-4946-d226-1a5b75b5e905"
      },
      "execution_count": 6,
      "outputs": [
        {
          "output_type": "stream",
          "name": "stdout",
          "text": [
            "Model: \"sequential\"\n",
            "_________________________________________________________________\n",
            " Layer (type)                Output Shape              Param #   \n",
            "=================================================================\n",
            " dense (Dense)               (None, 5)                 20        \n",
            "                                                                 \n",
            " dense_1 (Dense)             (None, 4)                 24        \n",
            "                                                                 \n",
            " dense_2 (Dense)             (None, 1)                 5         \n",
            "                                                                 \n",
            "=================================================================\n",
            "Total params: 49\n",
            "Trainable params: 49\n",
            "Non-trainable params: 0\n",
            "_________________________________________________________________\n"
          ]
        }
      ]
    },
    {
      "cell_type": "markdown",
      "source": [
        "PHASE 3 - TRAIN AND UPDATE THE WEIGHTS IN EACH LAYERS"
      ],
      "metadata": {
        "id": "-BHgUnzZYn0Z"
      }
    },
    {
      "cell_type": "code",
      "source": [
        "#Train the model and make predictions\n",
        "model.fit(train_data, labels, epochs=10, batch_size=32)"
      ],
      "metadata": {
        "colab": {
          "base_uri": "https://localhost:8080/"
        },
        "id": "lQFy_y31YoSJ",
        "outputId": "0247f5e3-70e9-4891-c674-353958c52838"
      },
      "execution_count": 7,
      "outputs": [
        {
          "output_type": "stream",
          "name": "stdout",
          "text": [
            "Epoch 1/10\n",
            "32/32 [==============================] - 1s 3ms/step - loss: 0.6961 - accuracy: 0.4900\n",
            "Epoch 2/10\n",
            "32/32 [==============================] - 0s 3ms/step - loss: 0.6945 - accuracy: 0.4930\n",
            "Epoch 3/10\n",
            "32/32 [==============================] - 0s 3ms/step - loss: 0.6938 - accuracy: 0.4980\n",
            "Epoch 4/10\n",
            "32/32 [==============================] - 0s 4ms/step - loss: 0.6933 - accuracy: 0.5040\n",
            "Epoch 5/10\n",
            "32/32 [==============================] - 0s 8ms/step - loss: 0.6930 - accuracy: 0.5050\n",
            "Epoch 6/10\n",
            "32/32 [==============================] - 0s 6ms/step - loss: 0.6929 - accuracy: 0.5110\n",
            "Epoch 7/10\n",
            "32/32 [==============================] - 0s 5ms/step - loss: 0.6928 - accuracy: 0.5130\n",
            "Epoch 8/10\n",
            "32/32 [==============================] - 0s 7ms/step - loss: 0.6928 - accuracy: 0.5140\n",
            "Epoch 9/10\n",
            "32/32 [==============================] - 0s 7ms/step - loss: 0.6927 - accuracy: 0.5270\n",
            "Epoch 10/10\n",
            "32/32 [==============================] - 0s 5ms/step - loss: 0.6926 - accuracy: 0.5200\n"
          ]
        },
        {
          "output_type": "execute_result",
          "data": {
            "text/plain": [
              "<keras.callbacks.History at 0x7f17f1ba0070>"
            ]
          },
          "metadata": {},
          "execution_count": 7
        }
      ]
    },
    {
      "cell_type": "markdown",
      "source": [
        "PHASE 4 - MAKE PREDICTIONS"
      ],
      "metadata": {
        "id": "kOF3eHBvYz8w"
      }
    },
    {
      "cell_type": "code",
      "source": [
        "#Make predictions from the trained model\n",
        "predictions = model.predict(test_data)"
      ],
      "metadata": {
        "colab": {
          "base_uri": "https://localhost:8080/"
        },
        "id": "lzNao7o2Y0QQ",
        "outputId": "b6fe4328-7a00-427e-b549-16de49b2d6ae"
      },
      "execution_count": 8,
      "outputs": [
        {
          "output_type": "stream",
          "name": "stdout",
          "text": [
            "16/16 [==============================] - 0s 2ms/step\n"
          ]
        }
      ]
    }
  ]
}