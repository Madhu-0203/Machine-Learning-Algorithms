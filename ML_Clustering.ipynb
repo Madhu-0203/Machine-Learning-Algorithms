{
  "nbformat": 4,
  "nbformat_minor": 0,
  "metadata": {
    "colab": {
      "provenance": []
    },
    "kernelspec": {
      "name": "python3",
      "display_name": "Python 3"
    },
    "language_info": {
      "name": "python"
    }
  },
  "cells": [
    {
      "cell_type": "markdown",
      "source": [
        "# **MACHINE LEARNING - Lab Assignment 7A**\n",
        "\n",
        "Title: K-Means Clustering with scikit-learn.\n",
        "\n",
        "By: Madhumithaa RP | 20BCE1648 "
      ],
      "metadata": {
        "id": "BLJ60ggC2igh"
      }
    },
    {
      "cell_type": "markdown",
      "source": [
        "Concept: \n",
        "\n",
        "Clustering (or cluster analysis) is a technique that allows us to find groups of similar objects, objects that are more related to each other than to objects in other groups. Examples of business-oriented applications of clustering include the grouping of documents, music, and movies by different topics, or finding customers that share similar interests based on common purchase behaviors as a basis for recommendation engines."
      ],
      "metadata": {
        "id": "P-Mdj0gd4qa_"
      }
    },
    {
      "cell_type": "markdown",
      "source": [
        "Step 1: Importing Libraries: "
      ],
      "metadata": {
        "id": "tPL2U23y4_Kn"
      }
    },
    {
      "cell_type": "code",
      "execution_count": 3,
      "metadata": {
        "id": "-6iP6ZV12Yan"
      },
      "outputs": [],
      "source": [
        "import matplotlib.pyplot as plt\n",
        "from sklearn.datasets import make_blobs\n",
        "from sklearn.cluster import KMeans"
      ]
    },
    {
      "cell_type": "markdown",
      "source": [
        "Step 2: Create the dataset and visualize the same "
      ],
      "metadata": {
        "id": "nvR9L9Ro5El-"
      }
    },
    {
      "cell_type": "code",
      "source": [
        "X, y = make_blobs(\n",
        "   n_samples=150, n_features=2,\n",
        "   centers=3, cluster_std=0.5,\n",
        "   shuffle=True, random_state=0\n",
        ")\n",
        "\n",
        "# plot\n",
        "plt.scatter(\n",
        "   X[:, 0], X[:, 1],\n",
        "   c='white', marker='o',\n",
        "   edgecolor='black', s=50\n",
        ")\n",
        "plt.show()"
      ],
      "metadata": {
        "colab": {
          "base_uri": "https://localhost:8080/",
          "height": 265
        },
        "id": "4J19ZcnU5LYL",
        "outputId": "7f26c185-e5a7-4091-9dca-a9f467be56d8"
      },
      "execution_count": 2,
      "outputs": [
        {
          "output_type": "display_data",
          "data": {
            "text/plain": [
              "<Figure size 432x288 with 1 Axes>"
            ],
            "image/png": "[encoded data removed]"
          },
          "metadata": {
            "needs_background": "light"
          }
        }
      ]
    },
    {
      "cell_type": "markdown",
      "source": [
        "ALGORITHM: \n",
        "\n",
        "1. Randomly pick k centroids from the sample points as initial cluster centers.\n",
        "\n",
        "2. Assign each sample to the nearest centroid μ^(j), j ∈ {1, …, k}.\n",
        "\n",
        "3. Move the centroids to the center of the samples that were assigned to it.\n",
        "\n",
        "4. Repeat steps 2 and 3 until the cluster assignments do not change or a user-defined tolerance or maximum number of iterations is reached."
      ],
      "metadata": {
        "id": "3yblcQ515aSx"
      }
    },
    {
      "cell_type": "markdown",
      "source": [
        "Squared Eucidean Distance: d(x,y)2 - sum(xi - yj)2 \n",
        "\n",
        "Sum of Squared Errors: sum<i> sum<j> w(i,j)||x(i) - m(j)||2  \n",
        "\n",
        "where, m(j) is the centroid for cluster j \n",
        "\n",
        "w(i,j) = 1 if the sample x(i) is in cluster j, \n",
        "       = 0 otherwise."
      ],
      "metadata": {
        "id": "mEFgjjxD6pUD"
      }
    },
    {
      "cell_type": "markdown",
      "source": [
        "Step 3: Train the KMeans module "
      ],
      "metadata": {
        "id": "zuXjNxXy8_xh"
      }
    },
    {
      "cell_type": "code",
      "source": [
        "km = KMeans(\n",
        "    n_clusters=3, init='random',\n",
        "    n_init=10, max_iter=300, \n",
        "    random_state=0\n",
        ")\n",
        "y_km = km.fit_predict(X)"
      ],
      "metadata": {
        "id": "7qPmrhXR5NJ_"
      },
      "execution_count": 6,
      "outputs": []
    },
    {
      "cell_type": "markdown",
      "source": [
        "k = 3 -> No of clusters. \n",
        "\n",
        "n_init = 10 -> No of iterations. \n",
        "\n",
        "max_iter = 300 -> maximum iterations to try finding the best cluster center\n"
      ],
      "metadata": {
        "id": "6i52zqx27o-g"
      }
    },
    {
      "cell_type": "markdown",
      "source": [
        "Step 4: Visualize the output of the algorithm "
      ],
      "metadata": {
        "id": "xEBxZoDB9FR8"
      }
    },
    {
      "cell_type": "code",
      "source": [
        "# plot the 3 clusters\n",
        "plt.scatter(\n",
        "    X[y_km == 0, 0], X[y_km == 0, 1],\n",
        "    s=50, c='lightgreen',\n",
        "    marker='s', edgecolor='black',\n",
        "    #label='cluster 1'\n",
        ")\n",
        "\n",
        "plt.scatter(\n",
        "    X[y_km == 1, 0], X[y_km == 1, 1],\n",
        "    s=50, c='orange',\n",
        "    marker='o', edgecolor='black',\n",
        "    #label='cluster 2'\n",
        ")\n",
        "\n",
        "plt.scatter(\n",
        "    X[y_km == 2, 0], X[y_km == 2, 1],\n",
        "    s=50, c='lightblue',\n",
        "    marker='v', edgecolor='black',\n",
        "    #label='cluster 3'\n",
        ")\n",
        "\n",
        "# plot the centroids\n",
        "plt.scatter(\n",
        "    km.cluster_centers_[:, 0], km.cluster_centers_[:, 1],\n",
        "    s=250, marker='^',\n",
        "    c='red', edgecolor='black',\n",
        "    label='centroids'\n",
        ")\n",
        "plt.legend(scatterpoints=1)\n",
        "plt.grid()\n",
        "plt.show()"
      ],
      "metadata": {
        "colab": {
          "base_uri": "https://localhost:8080/",
          "height": 265
        },
        "id": "XOU5PILu8DyQ",
        "outputId": "0d624bde-1ac4-47de-cb71-3e946e969940"
      },
      "execution_count": 9,
      "outputs": [
        {
          "output_type": "display_data",
          "data": {
            "text/plain": [
              "<Figure size 432x288 with 1 Axes>"
            ],
            "image/png": "[encoded data removed]"
          },
          "metadata": {
            "needs_background": "light"
          }
        }
      ]
    },
    {
      "cell_type": "markdown",
      "source": [
        "Thank You. "
      ],
      "metadata": {
        "id": "C3bD022S9LyU"
      }
    }
  ]
}