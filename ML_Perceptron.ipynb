{
  "nbformat": 4,
  "nbformat_minor": 0,
  "metadata": {
    "colab": {
      "provenance": []
    },
    "kernelspec": {
      "name": "python3",
      "display_name": "Python 3"
    },
    "language_info": {
      "name": "python"
    }
  },
  "cells": [
    {
      "cell_type": "markdown",
      "source": [
        "MACHINE LEARNING - LAB ASSIGNMENT 3 - TRAINING AND TESTING PERCEPTRON MODEL FOR THE GIVEN DATASET. \n",
        "\n",
        "\n",
        "Concept: Splitting the dataset into train & test sets though 0-1 percentage, then taken muliple different attributes we train the perceptron model and test the number of misclassifications and the accuracy of the trained perceptron. \n",
        "\n",
        "\n",
        "\n",
        "NAME: MADHUMITHAA RP \n",
        "\n",
        "REG NO: 20BCE1648 "
      ],
      "metadata": {
        "id": "YvpLO88VKSGj"
      }
    },
    {
      "cell_type": "code",
      "execution_count": 1,
      "metadata": {
        "id": "H7zllFdEY08_"
      },
      "outputs": [],
      "source": [
        "from IPython.display import Image\n",
        "%matplotlib inline"
      ]
    },
    {
      "cell_type": "markdown",
      "source": [
        "Load the csv files "
      ],
      "metadata": {
        "id": "IqoGXipKbJ4p"
      }
    },
    {
      "cell_type": "code",
      "source": [
        "import numpy as np\n",
        "import pandas as pd\n",
        "\n",
        "train = pd.read_csv('train.csv')\n",
        "test = pd.read_csv('test.csv')"
      ],
      "metadata": {
        "id": "CUxowcHYbJbq"
      },
      "execution_count": 26,
      "outputs": []
    },
    {
      "cell_type": "code",
      "source": [
        "attr = test\n",
        "target = test[\"Label\"]\n",
        "print('Class Labels:', np.unique(target))\n",
        "test[\"Label\"].value_counts()"
      ],
      "metadata": {
        "colab": {
          "base_uri": "https://localhost:8080/"
        },
        "id": "t2PnhFORcKYu",
        "outputId": "1b9159c3-f569-4690-bfd8-4ea57eefe8be"
      },
      "execution_count": 3,
      "outputs": [
        {
          "output_type": "stream",
          "name": "stdout",
          "text": [
            "Class Labels: [ 0  1  3  4  5  6  7  8  9 10 11 12 13 14]\n"
          ]
        },
        {
          "output_type": "execute_result",
          "data": {
            "text/plain": [
              "0     8574\n",
              "4      906\n",
              "10     354\n",
              "3       35\n",
              "5       34\n",
              "7       26\n",
              "6       22\n",
              "11      19\n",
              "12      11\n",
              "1        6\n",
              "14       5\n",
              "9        3\n",
              "13       3\n",
              "8        2\n",
              "Name: Label, dtype: int64"
            ]
          },
          "metadata": {},
          "execution_count": 3
        }
      ]
    },
    {
      "cell_type": "markdown",
      "source": [
        "Splitting the data: "
      ],
      "metadata": {
        "id": "_qUsZb3idCaZ"
      }
    },
    {
      "cell_type": "code",
      "source": [
        "# x - attr; y - target\n",
        "from sklearn.model_selection import train_test_split\n",
        "\n",
        "attr_train, attr_test, target_train, target_test = train_test_split(attr, target, test_size=0.7, random_state=1, stratify=target)"
      ],
      "metadata": {
        "id": "dmdT6H_JdFFw"
      },
      "execution_count": 4,
      "outputs": []
    },
    {
      "cell_type": "code",
      "source": [
        "print('Count of Labels count in target:', np.bincount(target))\n",
        "print('Count of Labels count in target_train:', np.bincount(target_train))\n",
        "print('Count of Labels count in target_test:', np.bincount(target_test))"
      ],
      "metadata": {
        "colab": {
          "base_uri": "https://localhost:8080/"
        },
        "id": "FzyBeZI9eUMk",
        "outputId": "99543b98-6826-4f3e-db2c-91e31bc06e42"
      },
      "execution_count": 5,
      "outputs": [
        {
          "output_type": "stream",
          "name": "stdout",
          "text": [
            "Count of Labels count in target: [8574    6    0   35  906   34   22   26    2    3  354   19   11    3\n",
            "    5]\n",
            "Count of Labels count in target_train: [2572    2    0   10  272   10    7    8    1    1  106    6    3    1\n",
            "    1]\n",
            "Count of Labels count in target_test: [6002    4    0   25  634   24   15   18    1    2  248   13    8    2\n",
            "    4]\n"
          ]
        }
      ]
    },
    {
      "cell_type": "code",
      "source": [
        "from sklearn.preprocessing import StandardScaler\n",
        "#Pre-processing - Relative grading among to classses - Fitting the standarsScaler wrt train dataset \n",
        "#standard divation and mean - same for both train and test \n",
        "\n",
        "sc = StandardScaler()\n",
        "sc.fit(attr_train)\n",
        "attr_train_std = sc.transform(attr_train)\n",
        "attr_test_std = sc.transform(attr_test)"
      ],
      "metadata": {
        "id": "rzWspFbIh0XL"
      },
      "execution_count": 6,
      "outputs": []
    },
    {
      "cell_type": "code",
      "source": [
        "from sklearn.linear_model import Perceptron\n",
        "# Perceptron help - Explore: y_train is the class labels \n",
        "ppn = Perceptron(eta0=0.1, random_state=1)#eta - accuracy; random state - random \n",
        "ppn.fit(attr_train_std, target_train)"
      ],
      "metadata": {
        "colab": {
          "base_uri": "https://localhost:8080/"
        },
        "id": "cTDFFW9th-J6",
        "outputId": "749bd000-8d3b-49f7-9d91-cdfd041f802c"
      },
      "execution_count": 7,
      "outputs": [
        {
          "output_type": "execute_result",
          "data": {
            "text/plain": [
              "Perceptron(eta0=0.1, random_state=1)"
            ]
          },
          "metadata": {},
          "execution_count": 7
        }
      ]
    },
    {
      "cell_type": "code",
      "source": [
        "# Predicting the test dataset 1/45 is predicted incorrectly. \n",
        "target_pred = ppn.predict(attr_test_std)\n",
        "print('Misclassified examples: %d' % (target_test != target_pred).sum())"
      ],
      "metadata": {
        "colab": {
          "base_uri": "https://localhost:8080/"
        },
        "id": "gNozyuPUiUhC",
        "outputId": "c4e8cd8f-c7fb-41fa-eba9-a6ecbab69c04"
      },
      "execution_count": 8,
      "outputs": [
        {
          "output_type": "stream",
          "name": "stdout",
          "text": [
            "Misclassified examples: 104\n"
          ]
        }
      ]
    },
    {
      "cell_type": "code",
      "source": [
        "from sklearn.metrics import accuracy_score\n",
        "\n",
        "print('Accuracy: %.3f' % accuracy_score(target_test, target_pred))"
      ],
      "metadata": {
        "colab": {
          "base_uri": "https://localhost:8080/"
        },
        "id": "LcujyLaFEWKa",
        "outputId": "142459a0-2409-45ca-d926-83790bce0856"
      },
      "execution_count": 9,
      "outputs": [
        {
          "output_type": "stream",
          "name": "stdout",
          "text": [
            "Accuracy: 0.985\n"
          ]
        }
      ]
    },
    {
      "cell_type": "markdown",
      "source": [
        "**TAKING ONLY FEW ATTRIBUTES AND CHECKING FOR MUSCLASSIFICATIONS AND ACCURACY**"
      ],
      "metadata": {
        "id": "iA5BzC0eJEVf"
      }
    },
    {
      "cell_type": "code",
      "source": [
        "attr = test.iloc[:, 0:3]\n",
        "# Selecting columns by index. \n",
        "\n",
        "print(attr)\n",
        "target = test[\"Label\"]\n",
        "print('Class Labels:', np.unique(target))\n",
        "test[\"Label\"].value_counts() "
      ],
      "metadata": {
        "colab": {
          "base_uri": "https://localhost:8080/"
        },
        "id": "Z9wKCeXkEc82",
        "outputId": "85b5e2f1-56cd-475e-cbd8-4a07e9c268b9"
      },
      "execution_count": 15,
      "outputs": [
        {
          "output_type": "stream",
          "name": "stdout",
          "text": [
            "      Destination Port  Flow Duration  Total Fwd Packets\n",
            "0                   53            162                  2\n",
            "1                52331              4                  2\n",
            "2                   80             66                  2\n",
            "3                54149            428                  1\n",
            "4                  443            139                  2\n",
            "...                ...            ...                ...\n",
            "9995                53            178                  2\n",
            "9996                80       63130063                  7\n",
            "9997                53          60619                  1\n",
            "9998                53          31288                  1\n",
            "9999             49732              1                  1\n",
            "\n",
            "[10000 rows x 3 columns]\n",
            "Class Labels: [ 0  1  3  4  5  6  7  8  9 10 11 12 13 14]\n"
          ]
        },
        {
          "output_type": "execute_result",
          "data": {
            "text/plain": [
              "0     8574\n",
              "4      906\n",
              "10     354\n",
              "3       35\n",
              "5       34\n",
              "7       26\n",
              "6       22\n",
              "11      19\n",
              "12      11\n",
              "1        6\n",
              "14       5\n",
              "9        3\n",
              "13       3\n",
              "8        2\n",
              "Name: Label, dtype: int64"
            ]
          },
          "metadata": {},
          "execution_count": 15
        }
      ]
    },
    {
      "cell_type": "code",
      "source": [
        "# x - attr; y - target\n",
        "from sklearn.model_selection import train_test_split\n",
        "\n",
        "attr_train, attr_test, target_train, target_test = train_test_split(attr, target, test_size=0.5, random_state=1, stratify=target)"
      ],
      "metadata": {
        "id": "8mH-fY8YJVmD"
      },
      "execution_count": 21,
      "outputs": []
    },
    {
      "cell_type": "code",
      "source": [
        "print('Count of Labels count in target:', np.bincount(target))\n",
        "print('Count of Labels count in target_train:', np.bincount(target_train))\n",
        "print('Count of Labels count in target_test:', np.bincount(target_test))"
      ],
      "metadata": {
        "colab": {
          "base_uri": "https://localhost:8080/"
        },
        "id": "huAemLWSJVin",
        "outputId": "ff9bc35e-4c10-42d5-ddfc-4cdfce4b0bc9"
      },
      "execution_count": 22,
      "outputs": [
        {
          "output_type": "stream",
          "name": "stdout",
          "text": [
            "Count of Labels count in target: [8574    6    0   35  906   34   22   26    2    3  354   19   11    3\n",
            "    5]\n",
            "Count of Labels count in target_train: [4287    3    0   18  453   17   11   13    1    1  177    9    6    1\n",
            "    3]\n",
            "Count of Labels count in target_test: [4287    3    0   17  453   17   11   13    1    2  177   10    5    2\n",
            "    2]\n"
          ]
        }
      ]
    },
    {
      "cell_type": "code",
      "source": [
        "from sklearn.preprocessing import StandardScaler\n",
        "#Pre-processing - Relative grading among to classses - Fitting the standarsScaler wrt train dataset \n",
        "#standard divation and mean - same for both train and test \n",
        "\n",
        "sc = StandardScaler()\n",
        "sc.fit(attr_train)\n",
        "attr_train_std = sc.transform(attr_train)\n",
        "attr_test_std = sc.transform(attr_test)"
      ],
      "metadata": {
        "id": "3vkYV46YJfPo"
      },
      "execution_count": 23,
      "outputs": []
    },
    {
      "cell_type": "code",
      "source": [
        "from sklearn.linear_model import Perceptron\n",
        "# Perceptron help - Explore: y_train is the class labels \n",
        "ppn = Perceptron(eta0=0.1, random_state=1)#eta - accuracy; random state - random \n",
        "ppn.fit(attr_train_std, target_train)"
      ],
      "metadata": {
        "colab": {
          "base_uri": "https://localhost:8080/"
        },
        "id": "fG8vfUxOJmEI",
        "outputId": "f15496d4-5ac3-4fb3-e551-423393785d5a"
      },
      "execution_count": 24,
      "outputs": [
        {
          "output_type": "execute_result",
          "data": {
            "text/plain": [
              "Perceptron(eta0=0.1, random_state=1)"
            ]
          },
          "metadata": {},
          "execution_count": 24
        }
      ]
    },
    {
      "cell_type": "code",
      "source": [
        "# Predicting the test dataset 1/45 is predicted incorrectly. \n",
        "target_pred = ppn.predict(attr_test_std)\n",
        "print('Misclassified examples: %d' % (target_test != target_pred).sum())"
      ],
      "metadata": {
        "colab": {
          "base_uri": "https://localhost:8080/"
        },
        "id": "CzLAB347Jopy",
        "outputId": "3883bb2d-b430-407c-dd6e-2d0422b16fba"
      },
      "execution_count": 25,
      "outputs": [
        {
          "output_type": "stream",
          "name": "stdout",
          "text": [
            "Misclassified examples: 713\n"
          ]
        }
      ]
    }
  ]
}